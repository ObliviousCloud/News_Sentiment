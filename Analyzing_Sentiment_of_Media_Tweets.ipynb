{
 "cells": [
  {
   "cell_type": "code",
   "execution_count": 14,
   "metadata": {},
   "outputs": [],
   "source": [
    "# Dependencies\n",
    "import pandas as pd\n",
    "import numpy as np\n",
    "import matplotlib.pyplot as plt\n",
    "import json\n",
    "import tweepy\n",
    "import time\n",
    "from config import consumer_key, consumer_secret, access_token, access_token_secret\n",
    "from vaderSentiment.vaderSentiment import SentimentIntensityAnalyzer\n",
    "analyzer = SentimentIntensityAnalyzer()"
   ]
  },
  {
   "cell_type": "code",
   "execution_count": 15,
   "metadata": {},
   "outputs": [],
   "source": [
    "# twitter credentials \n",
    "auth = tweepy.OAuthHandler(consumer_key, consumer_secret)\n",
    "auth.set_access_token(access_token, access_token_secret)\n",
    "api = tweepy.API(auth, parser=tweepy.parsers.JSONParser())"
   ]
  },
  {
   "cell_type": "code",
   "execution_count": 16,
   "metadata": {},
   "outputs": [],
   "source": [
    "# List of new news network twitter accounts\n",
    "target_users = ['@BBCWorld', '@CBS', '@CNN', '@FoxNews', '@nytimes']"
   ]
  },
  {
   "cell_type": "code",
   "execution_count": 17,
   "metadata": {},
   "outputs": [],
   "source": [
    "# Empty lists to append to\n",
    "news_networks = []\n",
    "account = []\n",
    "date = []\n",
    "text = []\n",
    "tweet_numbers = []\n",
    "compound_list = []\n",
    "positive_list = []\n",
    "negative_list = []\n",
    "neutral_list = []"
   ]
  },
  {
   "cell_type": "code",
   "execution_count": 18,
   "metadata": {},
   "outputs": [],
   "source": [
    "# Loop through last 100 tweets from each network and use a sentiment analysis\n",
    "for news in target_users:\n",
    "    public_tweets = api.user_timeline(news, count=100)\n",
    "    for tweet in public_tweets:\n",
    "        compound = analyzer.polarity_scores(tweet[\"text\"])[\"compound\"]\n",
    "        pos = analyzer.polarity_scores(tweet[\"text\"])[\"pos\"]\n",
    "        neg = analyzer.polarity_scores(tweet[\"text\"])[\"neg\"]\n",
    "        neu = analyzer.polarity_scores(tweet[\"text\"])[\"neu\"]\n",
    "        \n",
    "        news_networks.append(news)\n",
    "        account.append(tweet[\"user\"][\"name\"])\n",
    "        date.append(tweet[\"created_at\"])\n",
    "        text.append(tweet[\"text\"])\n",
    "        \n",
    "        compound_list.append(compound)\n",
    "        positive_list.append(pos)\n",
    "        negative_list.append(neg)\n",
    "        neutral_list.append(neu)"
   ]
  },
  {
   "cell_type": "code",
   "execution_count": 19,
   "metadata": {},
   "outputs": [
    {
     "data": {
      "text/html": [
       "<div>\n",
       "<style scoped>\n",
       "    .dataframe tbody tr th:only-of-type {\n",
       "        vertical-align: middle;\n",
       "    }\n",
       "\n",
       "    .dataframe tbody tr th {\n",
       "        vertical-align: top;\n",
       "    }\n",
       "\n",
       "    .dataframe thead th {\n",
       "        text-align: right;\n",
       "    }\n",
       "</style>\n",
       "<table border=\"1\" class=\"dataframe\">\n",
       "  <thead>\n",
       "    <tr style=\"text-align: right;\">\n",
       "      <th></th>\n",
       "      <th>Account</th>\n",
       "      <th>Network</th>\n",
       "      <th>Text</th>\n",
       "      <th>Date</th>\n",
       "      <th>Positive</th>\n",
       "      <th>Neutral</th>\n",
       "      <th>Negative</th>\n",
       "      <th>Compound</th>\n",
       "    </tr>\n",
       "  </thead>\n",
       "  <tbody>\n",
       "    <tr>\n",
       "      <th>0</th>\n",
       "      <td>@CBS</td>\n",
       "      <td>CBS</td>\n",
       "      <td>Happy #InternationalKissingDay! See which star...</td>\n",
       "      <td>Fri Jul 06 18:26:37 +0000 2018</td>\n",
       "      <td>0.390</td>\n",
       "      <td>0.610</td>\n",
       "      <td>0.000</td>\n",
       "      <td>0.8622</td>\n",
       "    </tr>\n",
       "    <tr>\n",
       "      <th>1</th>\n",
       "      <td>@CBS</td>\n",
       "      <td>CBS</td>\n",
       "      <td>RT @SalvationCBS: Mark your calendars, #Salvie...</td>\n",
       "      <td>Fri Jul 06 22:22:55 +0000 2018</td>\n",
       "      <td>0.153</td>\n",
       "      <td>0.847</td>\n",
       "      <td>0.000</td>\n",
       "      <td>0.4019</td>\n",
       "    </tr>\n",
       "    <tr>\n",
       "      <th>2</th>\n",
       "      <td>@CBS</td>\n",
       "      <td>CBS</td>\n",
       "      <td>Take a walk down @YandR_CBS memory lane with s...</td>\n",
       "      <td>Fri Jul 13 17:49:38 +0000 2018</td>\n",
       "      <td>0.000</td>\n",
       "      <td>1.000</td>\n",
       "      <td>0.000</td>\n",
       "      <td>0.0000</td>\n",
       "    </tr>\n",
       "    <tr>\n",
       "      <th>3</th>\n",
       "      <td>@CBS</td>\n",
       "      <td>CBS</td>\n",
       "      <td>RT @TheNeighborhood: There's a new family on t...</td>\n",
       "      <td>Fri Jul 13 21:15:41 +0000 2018</td>\n",
       "      <td>0.000</td>\n",
       "      <td>0.868</td>\n",
       "      <td>0.132</td>\n",
       "      <td>-0.4404</td>\n",
       "    </tr>\n",
       "    <tr>\n",
       "      <th>4</th>\n",
       "      <td>@CBS</td>\n",
       "      <td>CBS</td>\n",
       "      <td>Stand up. Speak up. Blow the whistle. \\n\\nDon'...</td>\n",
       "      <td>Fri Jul 13 21:35:01 +0000 2018</td>\n",
       "      <td>0.078</td>\n",
       "      <td>0.922</td>\n",
       "      <td>0.000</td>\n",
       "      <td>0.1139</td>\n",
       "    </tr>\n",
       "  </tbody>\n",
       "</table>\n",
       "</div>"
      ],
      "text/plain": [
       "  Account Network                                               Text  \\\n",
       "0    @CBS     CBS  Happy #InternationalKissingDay! See which star...   \n",
       "1    @CBS     CBS  RT @SalvationCBS: Mark your calendars, #Salvie...   \n",
       "2    @CBS     CBS  Take a walk down @YandR_CBS memory lane with s...   \n",
       "3    @CBS     CBS  RT @TheNeighborhood: There's a new family on t...   \n",
       "4    @CBS     CBS  Stand up. Speak up. Blow the whistle. \\n\\nDon'...   \n",
       "\n",
       "                             Date  Positive  Neutral  Negative  Compound  \n",
       "0  Fri Jul 06 18:26:37 +0000 2018     0.390    0.610     0.000    0.8622  \n",
       "1  Fri Jul 06 22:22:55 +0000 2018     0.153    0.847     0.000    0.4019  \n",
       "2  Fri Jul 13 17:49:38 +0000 2018     0.000    1.000     0.000    0.0000  \n",
       "3  Fri Jul 13 21:15:41 +0000 2018     0.000    0.868     0.132   -0.4404  \n",
       "4  Fri Jul 13 21:35:01 +0000 2018     0.078    0.922     0.000    0.1139  "
      ]
     },
     "execution_count": 19,
     "metadata": {},
     "output_type": "execute_result"
    }
   ],
   "source": [
    "# make a dataframe \n",
    "news_tweets_df = pd.DataFrame({\n",
    "    \"Account\":news_networks,\n",
    "    \"Network\":account,\n",
    "    \"Date\":date,\n",
    "    \"Text\":text,\n",
    "    \"Compound\":compound_list,\n",
    "    \"Positive\":positive_list,\n",
    "    \"Neutral\":neutral_list,\n",
    "    \"Negative\":negative_list,\n",
    "})\n",
    "\n",
    "news_tweets_df = news_tweets_df.sort_values(\"Date\", ascending=True)\n",
    "news_tweet_reset = news_tweets_df.reset_index(drop=True)\n",
    "news_tweet_df = news_tweet_reset[[\"Account\", \"Network\", \"Text\", \"Date\", \"Positive\", \"Neutral\", \"Negative\", \"Compound\"]]\n",
    "news_tweet_df.head()"
   ]
  },
  {
   "cell_type": "code",
   "execution_count": 20,
   "metadata": {},
   "outputs": [],
   "source": [
    "# Export into CSV\n",
    "news_tweet_df.to_csv(\"exported_files/news_tweet_sentiment_analysis.csv\")"
   ]
  },
  {
   "cell_type": "code",
   "execution_count": 21,
   "metadata": {},
   "outputs": [
    {
     "data": {
      "text/html": [
       "<div>\n",
       "<style scoped>\n",
       "    .dataframe tbody tr th:only-of-type {\n",
       "        vertical-align: middle;\n",
       "    }\n",
       "\n",
       "    .dataframe tbody tr th {\n",
       "        vertical-align: top;\n",
       "    }\n",
       "\n",
       "    .dataframe thead th {\n",
       "        text-align: right;\n",
       "    }\n",
       "</style>\n",
       "<table border=\"1\" class=\"dataframe\">\n",
       "  <thead>\n",
       "    <tr style=\"text-align: right;\">\n",
       "      <th></th>\n",
       "      <th>Average Compound</th>\n",
       "      <th>Average Negative</th>\n",
       "      <th>Average Neutral</th>\n",
       "      <th>Average Positive</th>\n",
       "    </tr>\n",
       "    <tr>\n",
       "      <th>Network</th>\n",
       "      <th></th>\n",
       "      <th></th>\n",
       "      <th></th>\n",
       "      <th></th>\n",
       "    </tr>\n",
       "  </thead>\n",
       "  <tbody>\n",
       "    <tr>\n",
       "      <th>BBC News (World)</th>\n",
       "      <td>-0.157574</td>\n",
       "      <td>0.14641</td>\n",
       "      <td>0.80514</td>\n",
       "      <td>0.04846</td>\n",
       "    </tr>\n",
       "    <tr>\n",
       "      <th>CBS</th>\n",
       "      <td>0.255927</td>\n",
       "      <td>0.02057</td>\n",
       "      <td>0.83666</td>\n",
       "      <td>0.14280</td>\n",
       "    </tr>\n",
       "    <tr>\n",
       "      <th>CNN</th>\n",
       "      <td>-0.044318</td>\n",
       "      <td>0.06254</td>\n",
       "      <td>0.88766</td>\n",
       "      <td>0.04977</td>\n",
       "    </tr>\n",
       "    <tr>\n",
       "      <th>Fox News</th>\n",
       "      <td>-0.010746</td>\n",
       "      <td>0.09936</td>\n",
       "      <td>0.81458</td>\n",
       "      <td>0.08608</td>\n",
       "    </tr>\n",
       "    <tr>\n",
       "      <th>The New York Times</th>\n",
       "      <td>-0.006865</td>\n",
       "      <td>0.07433</td>\n",
       "      <td>0.85428</td>\n",
       "      <td>0.07138</td>\n",
       "    </tr>\n",
       "  </tbody>\n",
       "</table>\n",
       "</div>"
      ],
      "text/plain": [
       "                    Average Compound  Average Negative  Average Neutral  \\\n",
       "Network                                                                   \n",
       "BBC News (World)           -0.157574           0.14641          0.80514   \n",
       "CBS                         0.255927           0.02057          0.83666   \n",
       "CNN                        -0.044318           0.06254          0.88766   \n",
       "Fox News                   -0.010746           0.09936          0.81458   \n",
       "The New York Times         -0.006865           0.07433          0.85428   \n",
       "\n",
       "                    Average Positive  \n",
       "Network                               \n",
       "BBC News (World)             0.04846  \n",
       "CBS                          0.14280  \n",
       "CNN                          0.04977  \n",
       "Fox News                     0.08608  \n",
       "The New York Times           0.07138  "
      ]
     },
     "execution_count": 21,
     "metadata": {},
     "output_type": "execute_result"
    }
   ],
   "source": [
    "# Build a Data Frame of averages from Vader Analysis\n",
    "summary_table = pd.DataFrame({\n",
    "    \"Average Compound\": news_tweet_df.groupby(\"Network\")[\"Compound\"].mean(),\n",
    "    \"Average Positive\": news_tweet_df.groupby(\"Network\")[\"Positive\"].mean(),\n",
    "    \"Average Neutral\": news_tweet_df.groupby(\"Network\")[\"Neutral\"].mean(),\n",
    "    \"Average Negative\": news_tweet_df.groupby(\"Network\")[\"Negative\"].mean(),\n",
    "})\n",
    "summary_table"
   ]
  },
  {
   "cell_type": "code",
   "execution_count": 22,
   "metadata": {},
   "outputs": [
    {
     "data": {
      "text/html": [
       "<div>\n",
       "<style scoped>\n",
       "    .dataframe tbody tr th:only-of-type {\n",
       "        vertical-align: middle;\n",
       "    }\n",
       "\n",
       "    .dataframe tbody tr th {\n",
       "        vertical-align: top;\n",
       "    }\n",
       "\n",
       "    .dataframe thead th {\n",
       "        text-align: right;\n",
       "    }\n",
       "</style>\n",
       "<table border=\"1\" class=\"dataframe\">\n",
       "  <thead>\n",
       "    <tr style=\"text-align: right;\">\n",
       "      <th></th>\n",
       "      <th>Number of Tweets</th>\n",
       "    </tr>\n",
       "  </thead>\n",
       "  <tbody>\n",
       "    <tr>\n",
       "      <th>Fox News</th>\n",
       "      <td>100</td>\n",
       "    </tr>\n",
       "    <tr>\n",
       "      <th>CBS</th>\n",
       "      <td>100</td>\n",
       "    </tr>\n",
       "    <tr>\n",
       "      <th>BBC News (World)</th>\n",
       "      <td>100</td>\n",
       "    </tr>\n",
       "    <tr>\n",
       "      <th>The New York Times</th>\n",
       "      <td>100</td>\n",
       "    </tr>\n",
       "    <tr>\n",
       "      <th>CNN</th>\n",
       "      <td>100</td>\n",
       "    </tr>\n",
       "  </tbody>\n",
       "</table>\n",
       "</div>"
      ],
      "text/plain": [
       "                    Number of Tweets\n",
       "Fox News                         100\n",
       "CBS                              100\n",
       "BBC News (World)                 100\n",
       "The New York Times               100\n",
       "CNN                              100"
      ]
     },
     "execution_count": 22,
     "metadata": {},
     "output_type": "execute_result"
    }
   ],
   "source": [
    "news_tweet_count = pd.DataFrame({\"Number of Tweets\": news_tweet_df[\"Network\"].value_counts()})\n",
    "news_tweet_count"
   ]
  },
  {
   "cell_type": "code",
   "execution_count": 23,
   "metadata": {},
   "outputs": [],
   "source": [
    "# Seperating DataFrames by Network\n",
    "bbc_df = news_tweet_df.loc[news_tweet_df[\"Network\"] == \"@BBC\"]\n",
    "cbs_df = news_tweet_df.loc[news_tweet_df[\"Network\"] == \"@CBS\"]\n",
    "cnn_df = news_tweet_df.loc[news_tweet_df[\"Network\"] == \"@CNN\"]\n",
    "fox_news_df = news_tweet_df.loc[news_tweet_df[\"Network\"] == \"@FoxNews\"]\n",
    "nytimes_df = news_tweet_df.loc[news_tweet_df[\"Network\"] == \"@nytimes\"]"
   ]
  },
  {
   "cell_type": "code",
   "execution_count": 24,
   "metadata": {},
   "outputs": [
    {
     "data": {
      "image/png": "[encoded data removed]",
      "text/plain": [
       "<matplotlib.figure.Figure at 0x1158090f0>"
      ]
     },
     "metadata": {},
     "output_type": "display_data"
    }
   ],
   "source": [
    "plt.figure(figsize=(10,8))\n",
    "\n",
    "#Set plots on chart\n",
    "plt.scatter(np.arange(len(bbc_df[\"Text\"])), bbc_df[\"Compound\"], edgecolors=\"black\", c='red',marker=\"o\",alpha=1)\n",
    "plt.scatter(np.arange(len(cbs_df[\"Text\"])), cbs_df[\"Compound\"], edgecolors=\"black\", c='blue', marker=\"o\", alpha=1)\n",
    "plt.scatter(np.arange(len(cnn_df[\"Text\"])), cnn_df[\"Compound\"], edgecolors=\"black\", c='green')\n",
    "plt.scatter(np.arange(len(fox_news_df[\"Text\"])), fox_news_df[\"Compound\"], edgecolors=\"black\", c=\"yellow\")\n",
    "plt.scatter(np.arange(len(nytimes_df[\"Text\"])), nytimes_df[\"Compound\"], edgecolors=\"black\", c='magenta', marker=\"o\", alpha=1)\n",
    "\n",
    "# Set Demisions of Scatter Plot\n",
    "plt.ylim(-1.10, 1.10)\n",
    "plt.xlim(-2, 102)\n",
    "plt.title(f\"Sentitment Analysis of Media Tweets\")\n",
    "plt.xlabel(\"Tweets Ago\")\n",
    "plt.ylabel(\"Tweet Sentiment\")\n",
    "\n",
    "# Add Legend\n",
    "plt.legend(target_users, loc='center left', bbox_to_anchor=(1, 1))\n",
    "\n",
    "plt.savefig(\"exported_files/sentiment_scatter_plot.png\", dpi=100,  bbox_inches='tight')\n",
    "plt.show()\n"
   ]
  },
  {
   "cell_type": "code",
   "execution_count": 26,
   "metadata": {},
   "outputs": [
    {
     "data": {
      "image/png": "[encoded data removed]",
      "text/plain": [
       "<matplotlib.figure.Figure at 0x115927a20>"
      ]
     },
     "metadata": {},
     "output_type": "display_data"
    }
   ],
   "source": [
    "# set average compound scores into a bar graph\n",
    "average_compound = summary_table[\"Average Compound\"]\n",
    "news_networks = (\"BBC\", \"CBS\", \"CNN\", \"Fox News\", \"The New York Times\")\n",
    "y_axis = np.arange(len(news_networks))\n",
    "plt.figure(figsize=(10, 10))\n",
    "plt.bar(y_axis, average_compound, color=[\"red\", \"blue\", \"green\", \"yellow\", \"black\"])\n",
    "plt.title(\"Overall News Sentiment on Twitter (Last 100 Tweets)\")\n",
    "plt.ylabel(\"Tweet Polarity\")\n",
    "plt.xlabel(\"News Outlet\")\n",
    "plt.xticks(y_axis, news_networks)\n",
    "plt.ylim(-0.25, 0.27)\n",
    "plt.savefig(\"exported_files/average_compound.png\")\n",
    "plt.show()\n"
   ]
  },
  {
   "cell_type": "code",
   "execution_count": null,
   "metadata": {},
   "outputs": [],
   "source": []
  }
 ],
 "metadata": {
  "kernelspec": {
   "display_name": "Python 3",
   "language": "python",
   "name": "python3"
  },
  "language_info": {
   "codemirror_mode": {
    "name": "ipython",
    "version": 3
   },
   "file_extension": ".py",
   "mimetype": "text/x-python",
   "name": "python",
   "nbconvert_exporter": "python",
   "pygments_lexer": "ipython3",
   "version": "3.6.4"
  }
 },
 "nbformat": 4,
 "nbformat_minor": 2
}
